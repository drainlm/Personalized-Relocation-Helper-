{
 "cells": [
  {
   "attachments": {},
   "cell_type": "markdown",
   "metadata": {},
   "source": [
    "Cities In States Code   "
   ]
  },
  {
   "cell_type": "code",
   "execution_count": null,
   "metadata": {},
   "outputs": [],
   "source": [
    "# Rename columns for clarity\n",
    "cities_in_states_df.rename(columns={'name': 'City', 'latitude': 'Latitude', 'longitude': 'Longitude',\n",
    "                                     'population': 'Population', 'admin1code': 'State'}, inplace=True)\n",
    "\n",
    "# Drop unnecessary columns\n",
    "cities_in_states_df.drop(['geonameid', 'timezone', 'alternatenames', 'countrycode'], axis=1, inplace=True)\n",
    "\n",
    "# Label index column\n",
    "cities_in_states_df.index.rename('ID', inplace=True)\n",
    "\n",
    "# Remove cities smaller than 100,000\n",
    "cities_in_states_df = cities_in_states_df[cities_in_states_df[\"Population\"] > 500000]\n",
    "\n",
    "# Reorder the columns\n",
    "cities_in_states_df = cities_in_states_df[['Latitude', 'Longitude', 'City', 'State', 'Population']]\n",
    "\n",
    "# Export the cities_in_states_df into a csv\n",
    "cities_in_states_df.to_csv(\"cities_in_states.csv\", index_label=\"ID\")\n",
    "\n",
    "cities_in_states_df"
   ]
  },
  {
   "cell_type": "code",
   "execution_count": null,
   "metadata": {},
   "outputs": [],
   "source": [
    "%%capture --no-display\n",
    "\n",
    "cities_in_states_map = cities_in_states_df.hvplot.points(\n",
    "    x='Longitude',\n",
    "    y='Latitude',\n",
    "    geo=True,\n",
    "    size=cities_in_states_df[\"Population\"] * 0.001, #Size of plots are in relation to population size of city\n",
    "    ###need to figure out how to exclude size from the hover box\n",
    "    hover_cols=['City', 'State'],\n",
    "    color='City',\n",
    "    tiles=True,\n",
    "    alpha=0.4,\n",
    "    width=900,\n",
    "    height=500\n",
    ")\n",
    "\n",
    "cities_in_states_map\n",
    "\n",
    "####figure out how to use geojson to outline each state"
   ]
  }
 ],
 "metadata": {
  "kernelspec": {
   "display_name": "PythonData",
   "language": "python",
   "name": "python3"
  },
  "language_info": {
   "name": "python",
   "version": "3.10.9"
  },
  "orig_nbformat": 4,
  "vscode": {
   "interpreter": {
    "hash": "60dddd436d0058a766555d2cf8fdcc83bb0bd21d7a1497621c66aa9f2e98ba11"
   }
  }
 },
 "nbformat": 4,
 "nbformat_minor": 2
}
